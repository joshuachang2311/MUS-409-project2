{
 "cells": [
  {
   "cell_type": "code",
   "execution_count": 82,
   "id": "c6a32983",
   "metadata": {},
   "outputs": [],
   "source": [
    "import numpy as np\n",
    "import soundfile as sf\n",
    "from glob import glob\n",
    "from matplotlib import pyplot as plt"
   ]
  },
  {
   "cell_type": "code",
   "execution_count": 4,
   "id": "a128bd12",
   "metadata": {},
   "outputs": [],
   "source": [
    "array_1 = np.load(\"array_1.npy\")\n",
    "array_2 = np.load(\"array_2.npy\")\n",
    "n_samples, sample_rate = array_1.shape[0], 44100"
   ]
  },
  {
   "cell_type": "code",
   "execution_count": 19,
   "id": "df9dfdac",
   "metadata": {},
   "outputs": [],
   "source": [
    "for i, shift in enumerate(np.exp(np.linspace(-6, -1, 10))):\n",
    "    sf.write(f\"sound elements/shift/positive_shift_1_{i}.aiff\", array_1 + shift, sample_rate)\n",
    "    sf.write(f\"sound elements/shift/negative_shift_1_{i}.aiff\", array_1 - shift, sample_rate)\n",
    "    sf.write(f\"sound elements/shift/positive_shift_2_{i}.aiff\", array_2 + shift, sample_rate)\n",
    "    sf.write(f\"sound elements/shift/negative_shift_2_{i}.aiff\", array_2 - shift, sample_rate)"
   ]
  },
  {
   "cell_type": "code",
   "execution_count": 24,
   "id": "91869fc0",
   "metadata": {},
   "outputs": [],
   "source": [
    "sf.write(\"sound elements/reverse_AM.aiff\", np.flip(array_1) * array_2, sample_rate)\n",
    "sf.write(\"sound elements/inverse_AM_1.aiff\", (1 - np.abs(array_1)) * np.sign(array_1) * array_2, sample_rate)\n",
    "sf.write(\"sound elements/inverse_AM_2.aiff\", (1 - np.abs(array_2)) * np.sign(array_2) * array_1, sample_rate)"
   ]
  },
  {
   "cell_type": "code",
   "execution_count": 41,
   "id": "2e837870",
   "metadata": {},
   "outputs": [],
   "source": [
    "sf.write(\"sound elements/AM/exp_AM_1.aiff\", np.power(np.abs(array_1 + 1e-9), array_2) * np.sign(array_1) * 0.03, sample_rate)\n",
    "sf.write(\"sound elements/AM/exp_AM_2.aiff\", np.power(np.abs(array_2 + 1e-9), array_1) * np.sign(array_2) * 0.03, sample_rate)"
   ]
  },
  {
   "cell_type": "code",
   "execution_count": 44,
   "id": "393b9643",
   "metadata": {},
   "outputs": [],
   "source": [
    "paths = glob(\"sound elements/*.aiff\") + glob(\"sound elements/*/*.aiff\")"
   ]
  },
  {
   "cell_type": "code",
   "execution_count": 113,
   "id": "e31df2cc",
   "metadata": {
    "scrolled": true
   },
   "outputs": [
    {
     "data": {
      "image/png": "[encoded data removed]",
      "text/plain": [
       "<Figure size 432x288 with 1 Axes>"
      ]
     },
     "metadata": {
      "needs_background": "light"
     },
     "output_type": "display_data"
    }
   ],
   "source": [
    "n_stds = 10\n",
    "std = 2.5\n",
    "x = np.linspace(-n_stds, n_stds, int(n_stds * std))\n",
    "weighted_filter = np.exp(-x**2/(2 * std**2)) / (std * np.sqrt(2 * np.pi)) - 3e-2\n",
    "weighted_filter /= np.sum(weighted_filter)\n",
    "plt.plot(x, weighted_filter)\n",
    "plt.show()"
   ]
  },
  {
   "cell_type": "code",
   "execution_count": 114,
   "id": "e50d8510",
   "metadata": {},
   "outputs": [],
   "source": [
    "for path in paths:\n",
    "    array, _ = sf.read(path)\n",
    "    sf.write(\n",
    "        path[:-5] + f\"_filtered.aiff\",\n",
    "             np.array([\n",
    "                 np.convolve(array[:,0], weighted_filter, mode='valid'),\n",
    "                 np.convolve(array[:,1], weighted_filter, mode='valid')\n",
    "             ]).T,\n",
    "             sample_rate\n",
    "    )"
   ]
  }
 ],
 "metadata": {
  "kernelspec": {
   "display_name": "Python 3 (ipykernel)",
   "language": "python",
   "name": "python3"
  },
  "language_info": {
   "codemirror_mode": {
    "name": "ipython",
    "version": 3
   },
   "file_extension": ".py",
   "mimetype": "text/x-python",
   "name": "python",
   "nbconvert_exporter": "python",
   "pygments_lexer": "ipython3",
   "version": "3.8.12"
  }
 },
 "nbformat": 4,
 "nbformat_minor": 5
}
